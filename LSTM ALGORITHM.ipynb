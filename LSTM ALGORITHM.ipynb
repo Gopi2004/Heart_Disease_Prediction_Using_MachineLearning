{
 "cells": [
  {
   "cell_type": "markdown",
   "id": "4da1be7a",
   "metadata": {},
   "source": [
    "# LSTM Algorithm:\n",
    "\n",
    "* LSTM (Long Short-Term Memory) is a type of Recurrent Neural Network (RNN) designed to handle sequential data with long-range dependencies.\n",
    "* It addresses the vanishing gradient problem in traditional RNNs, enabling better learning of long-term patterns.\n",
    "* LSTM includes memory cells (cells) that can retain information over long periods, crucial for understanding sequences.\n",
    "* The architecture involves three gates: Forget Gate, Input Gate, and Output Gate, which control the flow of information within the cell.\n",
    "* LSTM's hidden state captures relevant information from the cell state and input, aiding in predictions and decisions.\n",
    "* Backpropagation Through Time (BPTT) is used to train LSTM, considering the temporal dependencies in sequences.\n",
    "* Understanding LSTM's components and training it effectively can unlock its power in sequence analysis tasks."
   ]
  },
  {
   "cell_type": "code",
   "execution_count": null,
   "id": "0bf5834e",
   "metadata": {},
   "outputs": [],
   "source": []
  },
  {
   "cell_type": "code",
   "execution_count": null,
   "id": "b53d4259",
   "metadata": {},
   "outputs": [],
   "source": []
  },
  {
   "cell_type": "code",
   "execution_count": null,
   "id": "d760845d",
   "metadata": {},
   "outputs": [],
   "source": []
  },
  {
   "cell_type": "code",
   "execution_count": null,
   "id": "c6bab320",
   "metadata": {},
   "outputs": [],
   "source": []
  },
  {
   "cell_type": "code",
   "execution_count": null,
   "id": "0e6684d3",
   "metadata": {},
   "outputs": [],
   "source": []
  },
  {
   "cell_type": "code",
   "execution_count": null,
   "id": "5e921a60",
   "metadata": {},
   "outputs": [],
   "source": []
  },
  {
   "cell_type": "code",
   "execution_count": 2,
   "id": "20b0f673",
   "metadata": {},
   "outputs": [],
   "source": [
    "import pandas as pd\n",
    "import numpy as np\n",
    "from sklearn.model_selection import train_test_split\n",
    "from sklearn.preprocessing import StandardScaler, LabelEncoder\n",
    "from sklearn.metrics import precision_score, recall_score, accuracy_score, f1_score\n",
    "from tensorflow.keras.models import Sequential\n",
    "from tensorflow.keras.layers import LSTM, Dense, Dropout\n",
    "\n",
    "# Load the dataset\n",
    "data = pd.read_csv('New heart.csv')\n"
   ]
  },
  {
   "cell_type": "code",
   "execution_count": 3,
   "id": "bbf654c2",
   "metadata": {},
   "outputs": [],
   "source": [
    "# Convert categorical features to one-hot encoding\n",
    "categorical_columns = ['Sex', 'ChestPainType', 'RestingECG', 'ExerciseAngina', 'ST_Slope']\n",
    "data = pd.get_dummies(data, columns=categorical_columns)"
   ]
  },
  {
   "cell_type": "code",
   "execution_count": 4,
   "id": "cab423c8",
   "metadata": {},
   "outputs": [],
   "source": [
    "# Define features (X) and target (y)\n",
    "X = data.drop('HeartDisease', axis=1)\n",
    "y = data['HeartDisease']"
   ]
  },
  {
   "cell_type": "code",
   "execution_count": 5,
   "id": "f06f5b69",
   "metadata": {},
   "outputs": [],
   "source": [
    "# Split the data into training and test sets\n",
    "X_train, X_test, y_train, y_test = train_test_split(X, y, test_size=0.2, random_state=42)"
   ]
  },
  {
   "cell_type": "code",
   "execution_count": 6,
   "id": "ca6a2e55",
   "metadata": {},
   "outputs": [],
   "source": [
    "# Standardize the data\n",
    "scaler = StandardScaler()\n",
    "X_train = scaler.fit_transform(X_train)\n",
    "X_test = scaler.transform(X_test)"
   ]
  },
  {
   "cell_type": "code",
   "execution_count": 7,
   "id": "dc631628",
   "metadata": {},
   "outputs": [],
   "source": [
    "# Reshape the data for LSTM (assuming you want a time step of 1)\n",
    "X_train = X_train[:, np.newaxis, :]\n",
    "X_test = X_test[:, np.newaxis, :]"
   ]
  },
  {
   "cell_type": "code",
   "execution_count": 8,
   "id": "57f402b2",
   "metadata": {},
   "outputs": [],
   "source": [
    "# Build the LSTM model\n",
    "model = Sequential()\n",
    "model.add(LSTM(units=64, input_shape=(X_train.shape[1], X_train.shape[2])))\n",
    "model.add(Dropout(0.2))\n",
    "model.add(Dense(units=1, activation='sigmoid'))"
   ]
  },
  {
   "cell_type": "code",
   "execution_count": 9,
   "id": "ab640044",
   "metadata": {},
   "outputs": [],
   "source": [
    "# Compile the model\n",
    "model.compile(optimizer='adam', loss='binary_crossentropy', metrics=['accuracy'])"
   ]
  },
  {
   "cell_type": "code",
   "execution_count": 10,
   "id": "26e91319",
   "metadata": {},
   "outputs": [
    {
     "name": "stdout",
     "output_type": "stream",
     "text": [
      "Epoch 1/50\n",
      "42/42 [==============================] - 6s 35ms/step - loss: 0.6124 - accuracy: 0.7606 - val_loss: 0.5694 - val_accuracy: 0.7703\n",
      "Epoch 2/50\n",
      "42/42 [==============================] - 0s 7ms/step - loss: 0.4530 - accuracy: 0.8530 - val_loss: 0.4997 - val_accuracy: 0.7838\n",
      "Epoch 3/50\n",
      "42/42 [==============================] - 0s 8ms/step - loss: 0.3732 - accuracy: 0.8652 - val_loss: 0.4726 - val_accuracy: 0.8108\n",
      "Epoch 4/50\n",
      "42/42 [==============================] - 0s 7ms/step - loss: 0.3357 - accuracy: 0.8727 - val_loss: 0.4661 - val_accuracy: 0.7973\n",
      "Epoch 5/50\n",
      "42/42 [==============================] - 0s 8ms/step - loss: 0.3160 - accuracy: 0.8773 - val_loss: 0.4618 - val_accuracy: 0.7973\n",
      "Epoch 6/50\n",
      "42/42 [==============================] - 0s 7ms/step - loss: 0.3081 - accuracy: 0.8758 - val_loss: 0.4584 - val_accuracy: 0.8108\n",
      "Epoch 7/50\n",
      "42/42 [==============================] - 0s 7ms/step - loss: 0.3033 - accuracy: 0.8818 - val_loss: 0.4573 - val_accuracy: 0.8243\n",
      "Epoch 8/50\n",
      "42/42 [==============================] - 0s 9ms/step - loss: 0.2966 - accuracy: 0.8848 - val_loss: 0.4612 - val_accuracy: 0.7973\n",
      "Epoch 9/50\n",
      "42/42 [==============================] - 0s 8ms/step - loss: 0.2947 - accuracy: 0.8864 - val_loss: 0.4612 - val_accuracy: 0.8108\n",
      "Epoch 10/50\n",
      "42/42 [==============================] - 0s 11ms/step - loss: 0.2888 - accuracy: 0.8879 - val_loss: 0.4687 - val_accuracy: 0.7973\n",
      "Epoch 11/50\n",
      "42/42 [==============================] - 0s 9ms/step - loss: 0.2830 - accuracy: 0.8939 - val_loss: 0.4700 - val_accuracy: 0.8108\n",
      "Epoch 12/50\n",
      "42/42 [==============================] - 0s 9ms/step - loss: 0.2783 - accuracy: 0.8894 - val_loss: 0.4651 - val_accuracy: 0.8108\n",
      "Epoch 13/50\n",
      "42/42 [==============================] - 0s 7ms/step - loss: 0.2776 - accuracy: 0.8924 - val_loss: 0.4718 - val_accuracy: 0.8108\n",
      "Epoch 14/50\n",
      "42/42 [==============================] - 0s 8ms/step - loss: 0.2786 - accuracy: 0.8909 - val_loss: 0.4685 - val_accuracy: 0.8108\n",
      "Epoch 15/50\n",
      "42/42 [==============================] - 0s 10ms/step - loss: 0.2738 - accuracy: 0.8864 - val_loss: 0.4683 - val_accuracy: 0.8108\n",
      "Epoch 16/50\n",
      "42/42 [==============================] - 0s 8ms/step - loss: 0.2729 - accuracy: 0.8924 - val_loss: 0.4680 - val_accuracy: 0.8108\n",
      "Epoch 17/50\n",
      "42/42 [==============================] - 0s 7ms/step - loss: 0.2693 - accuracy: 0.8894 - val_loss: 0.4724 - val_accuracy: 0.8108\n",
      "Epoch 18/50\n",
      "42/42 [==============================] - 0s 9ms/step - loss: 0.2699 - accuracy: 0.8864 - val_loss: 0.4728 - val_accuracy: 0.8108\n",
      "Epoch 19/50\n",
      "42/42 [==============================] - 0s 10ms/step - loss: 0.2638 - accuracy: 0.8970 - val_loss: 0.4740 - val_accuracy: 0.8108\n",
      "Epoch 20/50\n",
      "42/42 [==============================] - 0s 9ms/step - loss: 0.2649 - accuracy: 0.8955 - val_loss: 0.4822 - val_accuracy: 0.8108\n",
      "Epoch 21/50\n",
      "42/42 [==============================] - 0s 7ms/step - loss: 0.2601 - accuracy: 0.8939 - val_loss: 0.4814 - val_accuracy: 0.8108\n",
      "Epoch 22/50\n",
      "42/42 [==============================] - 0s 7ms/step - loss: 0.2566 - accuracy: 0.8879 - val_loss: 0.4855 - val_accuracy: 0.7973\n",
      "Epoch 23/50\n",
      "42/42 [==============================] - 0s 7ms/step - loss: 0.2541 - accuracy: 0.8879 - val_loss: 0.4851 - val_accuracy: 0.7973\n",
      "Epoch 24/50\n",
      "42/42 [==============================] - 0s 7ms/step - loss: 0.2524 - accuracy: 0.8909 - val_loss: 0.4901 - val_accuracy: 0.7973\n",
      "Epoch 25/50\n",
      "42/42 [==============================] - 0s 6ms/step - loss: 0.2461 - accuracy: 0.8985 - val_loss: 0.4937 - val_accuracy: 0.7973\n",
      "Epoch 26/50\n",
      "42/42 [==============================] - 0s 6ms/step - loss: 0.2490 - accuracy: 0.8924 - val_loss: 0.4995 - val_accuracy: 0.7973\n",
      "Epoch 27/50\n",
      "42/42 [==============================] - 0s 6ms/step - loss: 0.2482 - accuracy: 0.8955 - val_loss: 0.4982 - val_accuracy: 0.7973\n",
      "Epoch 28/50\n",
      "42/42 [==============================] - 0s 6ms/step - loss: 0.2438 - accuracy: 0.8939 - val_loss: 0.5011 - val_accuracy: 0.7973\n",
      "Epoch 29/50\n",
      "42/42 [==============================] - 0s 6ms/step - loss: 0.2456 - accuracy: 0.8970 - val_loss: 0.5007 - val_accuracy: 0.7973\n",
      "Epoch 30/50\n",
      "42/42 [==============================] - 0s 7ms/step - loss: 0.2417 - accuracy: 0.8985 - val_loss: 0.5017 - val_accuracy: 0.7973\n",
      "Epoch 31/50\n",
      "42/42 [==============================] - 0s 8ms/step - loss: 0.2393 - accuracy: 0.9076 - val_loss: 0.5129 - val_accuracy: 0.7973\n",
      "Epoch 32/50\n",
      "42/42 [==============================] - 0s 6ms/step - loss: 0.2383 - accuracy: 0.8985 - val_loss: 0.5178 - val_accuracy: 0.7973\n",
      "Epoch 33/50\n",
      "42/42 [==============================] - 0s 7ms/step - loss: 0.2328 - accuracy: 0.8985 - val_loss: 0.5130 - val_accuracy: 0.7838\n",
      "Epoch 34/50\n",
      "42/42 [==============================] - 0s 7ms/step - loss: 0.2275 - accuracy: 0.8985 - val_loss: 0.5208 - val_accuracy: 0.7838\n",
      "Epoch 35/50\n",
      "42/42 [==============================] - 0s 8ms/step - loss: 0.2286 - accuracy: 0.9045 - val_loss: 0.5214 - val_accuracy: 0.7838\n",
      "Epoch 36/50\n",
      "42/42 [==============================] - 0s 8ms/step - loss: 0.2269 - accuracy: 0.9000 - val_loss: 0.5291 - val_accuracy: 0.7838\n",
      "Epoch 37/50\n",
      "42/42 [==============================] - 0s 7ms/step - loss: 0.2258 - accuracy: 0.9015 - val_loss: 0.5235 - val_accuracy: 0.7838\n",
      "Epoch 38/50\n",
      "42/42 [==============================] - 0s 8ms/step - loss: 0.2228 - accuracy: 0.9045 - val_loss: 0.5244 - val_accuracy: 0.7838\n",
      "Epoch 39/50\n",
      "42/42 [==============================] - 0s 7ms/step - loss: 0.2233 - accuracy: 0.9045 - val_loss: 0.5334 - val_accuracy: 0.7838\n",
      "Epoch 40/50\n",
      "42/42 [==============================] - 0s 8ms/step - loss: 0.2190 - accuracy: 0.9030 - val_loss: 0.5326 - val_accuracy: 0.7838\n",
      "Epoch 41/50\n",
      "42/42 [==============================] - 0s 7ms/step - loss: 0.2207 - accuracy: 0.9015 - val_loss: 0.5412 - val_accuracy: 0.7838\n",
      "Epoch 42/50\n",
      "42/42 [==============================] - 0s 6ms/step - loss: 0.2165 - accuracy: 0.9030 - val_loss: 0.5481 - val_accuracy: 0.7838\n",
      "Epoch 43/50\n",
      "42/42 [==============================] - 0s 7ms/step - loss: 0.2149 - accuracy: 0.9061 - val_loss: 0.5529 - val_accuracy: 0.7838\n",
      "Epoch 44/50\n",
      "42/42 [==============================] - 0s 7ms/step - loss: 0.2126 - accuracy: 0.9061 - val_loss: 0.5448 - val_accuracy: 0.7838\n",
      "Epoch 45/50\n",
      "42/42 [==============================] - 0s 9ms/step - loss: 0.2107 - accuracy: 0.9136 - val_loss: 0.5555 - val_accuracy: 0.7838\n",
      "Epoch 46/50\n",
      "42/42 [==============================] - 0s 8ms/step - loss: 0.2109 - accuracy: 0.9061 - val_loss: 0.5624 - val_accuracy: 0.7838\n",
      "Epoch 47/50\n",
      "42/42 [==============================] - 0s 8ms/step - loss: 0.2117 - accuracy: 0.9061 - val_loss: 0.5651 - val_accuracy: 0.7838\n",
      "Epoch 48/50\n",
      "42/42 [==============================] - 0s 8ms/step - loss: 0.2077 - accuracy: 0.9091 - val_loss: 0.5665 - val_accuracy: 0.7973\n",
      "Epoch 49/50\n",
      "42/42 [==============================] - 0s 8ms/step - loss: 0.2029 - accuracy: 0.9076 - val_loss: 0.5716 - val_accuracy: 0.7973\n",
      "Epoch 50/50\n",
      "42/42 [==============================] - 0s 6ms/step - loss: 0.2021 - accuracy: 0.9152 - val_loss: 0.5801 - val_accuracy: 0.7838\n"
     ]
    },
    {
     "data": {
      "text/plain": [
       "<keras.src.callbacks.History at 0x28ea5142080>"
      ]
     },
     "execution_count": 10,
     "metadata": {},
     "output_type": "execute_result"
    }
   ],
   "source": [
    "# Train the model\n",
    "model.fit(X_train, y_train, epochs=50, batch_size=16, validation_split=0.1)"
   ]
  },
  {
   "cell_type": "code",
   "execution_count": 12,
   "id": "fedc4684",
   "metadata": {},
   "outputs": [
    {
     "name": "stdout",
     "output_type": "stream",
     "text": [
      "6/6 [==============================] - 0s 5ms/step\n"
     ]
    }
   ],
   "source": [
    "# Make predictions on the test set\n",
    "y_pred = model.predict(X_test)\n",
    "y_pred = (y_pred > 0.5).astype(int)"
   ]
  },
  {
   "cell_type": "code",
   "execution_count": 15,
   "id": "ec29749d",
   "metadata": {},
   "outputs": [
    {
     "name": "stdout",
     "output_type": "stream",
     "text": [
      "Precision: 92.38095238095238\n",
      "Recall: 90.65420560747664\n",
      "Accuracy: 90.21739130434783\n",
      "F1 Score: 91.50943396226417\n"
     ]
    }
   ],
   "source": [
    "# Calculate evaluation metrics\n",
    "precision = precision_score(y_test, y_pred)\n",
    "recall = recall_score(y_test, y_pred)\n",
    "accuracy = accuracy_score(y_test, y_pred)\n",
    "f1 = f1_score(y_test, y_pred)\n",
    "\n",
    "# Print the evaluation metrics\n",
    "print(\"Precision:\", precision*100)\n",
    "print(\"Recall:\", recall*100)\n",
    "print(\"Accuracy:\", accuracy*100)\n",
    "print(\"F1 Score:\", f1*100)"
   ]
  },
  {
   "cell_type": "code",
   "execution_count": null,
   "id": "0c9d20f4",
   "metadata": {},
   "outputs": [],
   "source": []
  }
 ],
 "metadata": {
  "kernelspec": {
   "display_name": "Python 3 (ipykernel)",
   "language": "python",
   "name": "python3"
  },
  "language_info": {
   "codemirror_mode": {
    "name": "ipython",
    "version": 3
   },
   "file_extension": ".py",
   "mimetype": "text/x-python",
   "name": "python",
   "nbconvert_exporter": "python",
   "pygments_lexer": "ipython3",
   "version": "3.10.9"
  }
 },
 "nbformat": 4,
 "nbformat_minor": 5
}
