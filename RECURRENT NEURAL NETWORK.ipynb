{
 "cells": [
  {
   "cell_type": "code",
   "execution_count": null,
   "id": "e0c3dbbd",
   "metadata": {},
   "outputs": [],
   "source": []
  },
  {
   "cell_type": "code",
   "execution_count": null,
   "id": "6d2274cf",
   "metadata": {},
   "outputs": [],
   "source": []
  },
  {
   "cell_type": "code",
   "execution_count": null,
   "id": "0cbbb6d8",
   "metadata": {},
   "outputs": [],
   "source": []
  },
  {
   "cell_type": "code",
   "execution_count": null,
   "id": "3057307d",
   "metadata": {},
   "outputs": [],
   "source": []
  },
  {
   "cell_type": "code",
   "execution_count": null,
   "id": "b666e930",
   "metadata": {},
   "outputs": [],
   "source": []
  },
  {
   "cell_type": "code",
   "execution_count": null,
   "id": "dd296a69",
   "metadata": {},
   "outputs": [],
   "source": []
  },
  {
   "cell_type": "code",
   "execution_count": null,
   "id": "006aee23",
   "metadata": {},
   "outputs": [],
   "source": []
  },
  {
   "cell_type": "code",
   "execution_count": 2,
   "id": "23dba3a7",
   "metadata": {},
   "outputs": [],
   "source": [
    "import pandas as pd\n",
    "import numpy as np\n",
    "from sklearn.model_selection import train_test_split\n",
    "from sklearn.preprocessing import StandardScaler, LabelEncoder\n",
    "from sklearn.impute import SimpleImputer\n",
    "from sklearn.metrics import precision_score, recall_score, accuracy_score, f1_score\n",
    "from tensorflow.keras.models import Sequential\n",
    "from tensorflow.keras.layers import LSTM, Dense, Dropout\n",
    "\n",
    "# Load the dataset\n",
    "data = pd.read_csv('New heart.csv')"
   ]
  },
  {
   "cell_type": "code",
   "execution_count": 3,
   "id": "76bf35db",
   "metadata": {},
   "outputs": [],
   "source": [
    "# Handle missing values (Replace 'M' with NaN)\n",
    "data = data.replace('M', np.nan)\n",
    "\n",
    "# Drop rows with missing target values (assuming 'target' is the column name)\n",
    "data.dropna(subset=['HeartDisease'], inplace=True)"
   ]
  },
  {
   "cell_type": "code",
   "execution_count": 4,
   "id": "bab7e615",
   "metadata": {},
   "outputs": [],
   "source": [
    "# Define features (X) and target (y)\n",
    "X = data.drop('HeartDisease', axis=1)\n",
    "y = data['HeartDisease']"
   ]
  },
  {
   "cell_type": "code",
   "execution_count": 5,
   "id": "1294db75",
   "metadata": {},
   "outputs": [],
   "source": [
    "# Convert non-numeric columns to numeric using LabelEncoder\n",
    "label_encoder = LabelEncoder()\n",
    "X['Sex'] = label_encoder.fit_transform(X['Sex'])\n",
    "X['ChestPainType'] = label_encoder.fit_transform(X['ChestPainType'])\n",
    "X['RestingECG'] = label_encoder.fit_transform(X['RestingECG'])\n",
    "X['ExerciseAngina'] = label_encoder.fit_transform(X['ExerciseAngina'])\n",
    "X['ST_Slope'] = label_encoder.fit_transform(X['ST_Slope'])"
   ]
  },
  {
   "cell_type": "code",
   "execution_count": 6,
   "id": "1cd5a1d3",
   "metadata": {},
   "outputs": [],
   "source": [
    "# Handle missing values in the feature columns\n",
    "imputer = SimpleImputer(strategy='mean')\n",
    "X = imputer.fit_transform(X)"
   ]
  },
  {
   "cell_type": "code",
   "execution_count": 7,
   "id": "ee70fb5c",
   "metadata": {},
   "outputs": [],
   "source": [
    "# Split the data into training and test sets\n",
    "X_train, X_test, y_train, y_test = train_test_split(X, y, test_size=0.2, random_state=42)\n"
   ]
  },
  {
   "cell_type": "code",
   "execution_count": 8,
   "id": "df455f6f",
   "metadata": {},
   "outputs": [],
   "source": [
    "# Standardize the data\n",
    "scaler = StandardScaler()\n",
    "X_train = scaler.fit_transform(X_train)\n",
    "X_test = scaler.transform(X_test)"
   ]
  },
  {
   "cell_type": "code",
   "execution_count": 9,
   "id": "b807f882",
   "metadata": {},
   "outputs": [],
   "source": [
    "# Reshape the data for RNN (assuming you want a time step of 1)\n",
    "X_train = X_train[:, np.newaxis, :]\n",
    "X_test = X_test[:, np.newaxis, :]"
   ]
  },
  {
   "cell_type": "code",
   "execution_count": 10,
   "id": "d844b6ff",
   "metadata": {},
   "outputs": [],
   "source": [
    "# Build the RNN model\n",
    "model = Sequential()\n",
    "model.add(LSTM(units=64, input_shape=(X_train.shape[1], X_train.shape[2])))\n",
    "model.add(Dropout(0.2))\n",
    "model.add(Dense(units=1, activation='sigmoid'))"
   ]
  },
  {
   "cell_type": "code",
   "execution_count": 11,
   "id": "956ccf0c",
   "metadata": {},
   "outputs": [],
   "source": [
    "# Compile the model\n",
    "model.compile(optimizer='adam', loss='binary_crossentropy', metrics=['accuracy'])"
   ]
  },
  {
   "cell_type": "code",
   "execution_count": 12,
   "id": "7fa42cae",
   "metadata": {},
   "outputs": [
    {
     "name": "stdout",
     "output_type": "stream",
     "text": [
      "Epoch 1/50\n",
      "42/42 [==============================] - 7s 35ms/step - loss: 0.5920 - accuracy: 0.8121 - val_loss: 0.5526 - val_accuracy: 0.8108\n",
      "Epoch 2/50\n",
      "42/42 [==============================] - 0s 7ms/step - loss: 0.4753 - accuracy: 0.8439 - val_loss: 0.4796 - val_accuracy: 0.8108\n",
      "Epoch 3/50\n",
      "42/42 [==============================] - 0s 9ms/step - loss: 0.4054 - accuracy: 0.8576 - val_loss: 0.4513 - val_accuracy: 0.8243\n",
      "Epoch 4/50\n",
      "42/42 [==============================] - 0s 9ms/step - loss: 0.3660 - accuracy: 0.8606 - val_loss: 0.4454 - val_accuracy: 0.8243\n",
      "Epoch 5/50\n",
      "42/42 [==============================] - 0s 8ms/step - loss: 0.3512 - accuracy: 0.8606 - val_loss: 0.4464 - val_accuracy: 0.8243\n",
      "Epoch 6/50\n",
      "42/42 [==============================] - 0s 8ms/step - loss: 0.3377 - accuracy: 0.8652 - val_loss: 0.4479 - val_accuracy: 0.8108\n",
      "Epoch 7/50\n",
      "42/42 [==============================] - 0s 8ms/step - loss: 0.3338 - accuracy: 0.8606 - val_loss: 0.4492 - val_accuracy: 0.8243\n",
      "Epoch 8/50\n",
      "42/42 [==============================] - 0s 8ms/step - loss: 0.3284 - accuracy: 0.8652 - val_loss: 0.4511 - val_accuracy: 0.8243\n",
      "Epoch 9/50\n",
      "42/42 [==============================] - 0s 7ms/step - loss: 0.3236 - accuracy: 0.8652 - val_loss: 0.4476 - val_accuracy: 0.8378\n",
      "Epoch 10/50\n",
      "42/42 [==============================] - 0s 8ms/step - loss: 0.3188 - accuracy: 0.8712 - val_loss: 0.4495 - val_accuracy: 0.8378\n",
      "Epoch 11/50\n",
      "42/42 [==============================] - 0s 8ms/step - loss: 0.3166 - accuracy: 0.8727 - val_loss: 0.4529 - val_accuracy: 0.8378\n",
      "Epoch 12/50\n",
      "42/42 [==============================] - 0s 8ms/step - loss: 0.3147 - accuracy: 0.8697 - val_loss: 0.4495 - val_accuracy: 0.8243\n",
      "Epoch 13/50\n",
      "42/42 [==============================] - 0s 7ms/step - loss: 0.3092 - accuracy: 0.8727 - val_loss: 0.4507 - val_accuracy: 0.8243\n",
      "Epoch 14/50\n",
      "42/42 [==============================] - 0s 9ms/step - loss: 0.3103 - accuracy: 0.8727 - val_loss: 0.4474 - val_accuracy: 0.8243\n",
      "Epoch 15/50\n",
      "42/42 [==============================] - 0s 7ms/step - loss: 0.3079 - accuracy: 0.8758 - val_loss: 0.4449 - val_accuracy: 0.8243\n",
      "Epoch 16/50\n",
      "42/42 [==============================] - 0s 8ms/step - loss: 0.3021 - accuracy: 0.8727 - val_loss: 0.4466 - val_accuracy: 0.8243\n",
      "Epoch 17/50\n",
      "42/42 [==============================] - 0s 7ms/step - loss: 0.3021 - accuracy: 0.8727 - val_loss: 0.4508 - val_accuracy: 0.8108\n",
      "Epoch 18/50\n",
      "42/42 [==============================] - 0s 7ms/step - loss: 0.2989 - accuracy: 0.8712 - val_loss: 0.4512 - val_accuracy: 0.8108\n",
      "Epoch 19/50\n",
      "42/42 [==============================] - 0s 7ms/step - loss: 0.2969 - accuracy: 0.8742 - val_loss: 0.4496 - val_accuracy: 0.8108\n",
      "Epoch 20/50\n",
      "42/42 [==============================] - 0s 6ms/step - loss: 0.2932 - accuracy: 0.8742 - val_loss: 0.4537 - val_accuracy: 0.8108\n",
      "Epoch 21/50\n",
      "42/42 [==============================] - 0s 7ms/step - loss: 0.2942 - accuracy: 0.8727 - val_loss: 0.4558 - val_accuracy: 0.8108\n",
      "Epoch 22/50\n",
      "42/42 [==============================] - 0s 9ms/step - loss: 0.2912 - accuracy: 0.8758 - val_loss: 0.4513 - val_accuracy: 0.8108\n",
      "Epoch 23/50\n",
      "42/42 [==============================] - 0s 8ms/step - loss: 0.2901 - accuracy: 0.8742 - val_loss: 0.4533 - val_accuracy: 0.8108\n",
      "Epoch 24/50\n",
      "42/42 [==============================] - 0s 9ms/step - loss: 0.2904 - accuracy: 0.8727 - val_loss: 0.4540 - val_accuracy: 0.8108\n",
      "Epoch 25/50\n",
      "42/42 [==============================] - 0s 9ms/step - loss: 0.2832 - accuracy: 0.8788 - val_loss: 0.4582 - val_accuracy: 0.8108\n",
      "Epoch 26/50\n",
      "42/42 [==============================] - 0s 9ms/step - loss: 0.2849 - accuracy: 0.8758 - val_loss: 0.4568 - val_accuracy: 0.7973\n",
      "Epoch 27/50\n",
      "42/42 [==============================] - 0s 7ms/step - loss: 0.2793 - accuracy: 0.8788 - val_loss: 0.4593 - val_accuracy: 0.7973\n",
      "Epoch 28/50\n",
      "42/42 [==============================] - 0s 7ms/step - loss: 0.2820 - accuracy: 0.8788 - val_loss: 0.4626 - val_accuracy: 0.8108\n",
      "Epoch 29/50\n",
      "42/42 [==============================] - 0s 8ms/step - loss: 0.2774 - accuracy: 0.8773 - val_loss: 0.4650 - val_accuracy: 0.7973\n",
      "Epoch 30/50\n",
      "42/42 [==============================] - 0s 7ms/step - loss: 0.2748 - accuracy: 0.8833 - val_loss: 0.4665 - val_accuracy: 0.7973\n",
      "Epoch 31/50\n",
      "42/42 [==============================] - 0s 8ms/step - loss: 0.2761 - accuracy: 0.8818 - val_loss: 0.4658 - val_accuracy: 0.7973\n",
      "Epoch 32/50\n",
      "42/42 [==============================] - 0s 10ms/step - loss: 0.2747 - accuracy: 0.8818 - val_loss: 0.4694 - val_accuracy: 0.7973\n",
      "Epoch 33/50\n",
      "42/42 [==============================] - 0s 10ms/step - loss: 0.2704 - accuracy: 0.8864 - val_loss: 0.4718 - val_accuracy: 0.7973\n",
      "Epoch 34/50\n",
      "42/42 [==============================] - 0s 7ms/step - loss: 0.2694 - accuracy: 0.8848 - val_loss: 0.4744 - val_accuracy: 0.7973\n",
      "Epoch 35/50\n",
      "42/42 [==============================] - 0s 7ms/step - loss: 0.2722 - accuracy: 0.8848 - val_loss: 0.4696 - val_accuracy: 0.7973\n",
      "Epoch 36/50\n",
      "42/42 [==============================] - 0s 6ms/step - loss: 0.2642 - accuracy: 0.8848 - val_loss: 0.4757 - val_accuracy: 0.7973\n",
      "Epoch 37/50\n",
      "42/42 [==============================] - 0s 8ms/step - loss: 0.2656 - accuracy: 0.8879 - val_loss: 0.4795 - val_accuracy: 0.7973\n",
      "Epoch 38/50\n",
      "42/42 [==============================] - 0s 8ms/step - loss: 0.2581 - accuracy: 0.8955 - val_loss: 0.4840 - val_accuracy: 0.7973\n",
      "Epoch 39/50\n",
      "42/42 [==============================] - 0s 11ms/step - loss: 0.2622 - accuracy: 0.8879 - val_loss: 0.4860 - val_accuracy: 0.7973\n",
      "Epoch 40/50\n",
      "42/42 [==============================] - 0s 8ms/step - loss: 0.2581 - accuracy: 0.8924 - val_loss: 0.4882 - val_accuracy: 0.7973\n",
      "Epoch 41/50\n",
      "42/42 [==============================] - 0s 8ms/step - loss: 0.2573 - accuracy: 0.8939 - val_loss: 0.4919 - val_accuracy: 0.7973\n",
      "Epoch 42/50\n",
      "42/42 [==============================] - 0s 8ms/step - loss: 0.2543 - accuracy: 0.8909 - val_loss: 0.4952 - val_accuracy: 0.7973\n",
      "Epoch 43/50\n",
      "42/42 [==============================] - 0s 7ms/step - loss: 0.2549 - accuracy: 0.8955 - val_loss: 0.4967 - val_accuracy: 0.8108\n",
      "Epoch 44/50\n",
      "42/42 [==============================] - 0s 7ms/step - loss: 0.2537 - accuracy: 0.8955 - val_loss: 0.4990 - val_accuracy: 0.8108\n",
      "Epoch 45/50\n",
      "42/42 [==============================] - 0s 7ms/step - loss: 0.2508 - accuracy: 0.8970 - val_loss: 0.5055 - val_accuracy: 0.7973\n",
      "Epoch 46/50\n",
      "42/42 [==============================] - 0s 6ms/step - loss: 0.2513 - accuracy: 0.8939 - val_loss: 0.5055 - val_accuracy: 0.7973\n",
      "Epoch 47/50\n",
      "42/42 [==============================] - 0s 7ms/step - loss: 0.2518 - accuracy: 0.8955 - val_loss: 0.5108 - val_accuracy: 0.8108\n",
      "Epoch 48/50\n",
      "42/42 [==============================] - 0s 8ms/step - loss: 0.2427 - accuracy: 0.8955 - val_loss: 0.5179 - val_accuracy: 0.7973\n",
      "Epoch 49/50\n",
      "42/42 [==============================] - 0s 7ms/step - loss: 0.2430 - accuracy: 0.9000 - val_loss: 0.5147 - val_accuracy: 0.8108\n",
      "Epoch 50/50\n",
      "42/42 [==============================] - 0s 7ms/step - loss: 0.2450 - accuracy: 0.8970 - val_loss: 0.5232 - val_accuracy: 0.7973\n"
     ]
    },
    {
     "data": {
      "text/plain": [
       "<keras.src.callbacks.History at 0x2865d6fc730>"
      ]
     },
     "execution_count": 12,
     "metadata": {},
     "output_type": "execute_result"
    }
   ],
   "source": [
    "# Train the model\n",
    "model.fit(X_train, y_train, epochs=50, batch_size=16, validation_split=0.1)"
   ]
  },
  {
   "cell_type": "code",
   "execution_count": 13,
   "id": "15346b27",
   "metadata": {},
   "outputs": [
    {
     "name": "stdout",
     "output_type": "stream",
     "text": [
      "6/6 [==============================] - 1s 5ms/step\n"
     ]
    }
   ],
   "source": [
    "# Make predictions on the test set\n",
    "y_pred = model.predict(X_test)\n",
    "y_pred = (y_pred > 0.5).astype(int)"
   ]
  },
  {
   "cell_type": "code",
   "execution_count": 14,
   "id": "9f57434d",
   "metadata": {},
   "outputs": [
    {
     "name": "stdout",
     "output_type": "stream",
     "text": [
      "Precision: 93.20388349514563\n",
      "Recall: 89.7196261682243\n",
      "Accuracy: 90.21739130434783\n",
      "F1 Score: 91.42857142857143\n"
     ]
    }
   ],
   "source": [
    "# Calculate evaluation metrics\n",
    "precision = precision_score(y_test, y_pred)\n",
    "recall = recall_score(y_test, y_pred)\n",
    "accuracy = accuracy_score(y_test, y_pred)\n",
    "f1 = f1_score(y_test, y_pred)\n",
    "\n",
    "# Print the evaluation metrics\n",
    "print(\"Precision:\", precision*100)\n",
    "print(\"Recall:\", recall*100)\n",
    "print(\"Accuracy:\", accuracy*100)\n",
    "print(\"F1 Score:\", f1*100)\n"
   ]
  },
  {
   "cell_type": "code",
   "execution_count": null,
   "id": "567081c0",
   "metadata": {},
   "outputs": [],
   "source": []
  }
 ],
 "metadata": {
  "kernelspec": {
   "display_name": "Python 3 (ipykernel)",
   "language": "python",
   "name": "python3"
  },
  "language_info": {
   "codemirror_mode": {
    "name": "ipython",
    "version": 3
   },
   "file_extension": ".py",
   "mimetype": "text/x-python",
   "name": "python",
   "nbconvert_exporter": "python",
   "pygments_lexer": "ipython3",
   "version": "3.10.9"
  }
 },
 "nbformat": 4,
 "nbformat_minor": 5
}
