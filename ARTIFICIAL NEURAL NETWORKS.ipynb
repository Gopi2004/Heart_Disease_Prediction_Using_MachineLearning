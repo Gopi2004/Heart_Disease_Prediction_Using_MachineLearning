{
 "cells": [
  {
   "cell_type": "code",
   "execution_count": null,
   "id": "2abd0be7",
   "metadata": {},
   "outputs": [],
   "source": []
  },
  {
   "cell_type": "code",
   "execution_count": null,
   "id": "1a607ed0",
   "metadata": {},
   "outputs": [],
   "source": []
  },
  {
   "cell_type": "code",
   "execution_count": null,
   "id": "56f15fb1",
   "metadata": {},
   "outputs": [],
   "source": []
  },
  {
   "cell_type": "code",
   "execution_count": null,
   "id": "3b8ce7b0",
   "metadata": {},
   "outputs": [],
   "source": []
  },
  {
   "cell_type": "code",
   "execution_count": null,
   "id": "f2ef5f12",
   "metadata": {},
   "outputs": [],
   "source": []
  },
  {
   "cell_type": "code",
   "execution_count": null,
   "id": "bfafc01d",
   "metadata": {},
   "outputs": [],
   "source": []
  },
  {
   "cell_type": "code",
   "execution_count": null,
   "id": "eb187238",
   "metadata": {},
   "outputs": [],
   "source": []
  },
  {
   "cell_type": "code",
   "execution_count": 1,
   "id": "ea8bd903",
   "metadata": {},
   "outputs": [],
   "source": [
    "import pandas as pd\n",
    "import numpy as np\n",
    "from sklearn.model_selection import train_test_split\n",
    "from sklearn.preprocessing import StandardScaler, LabelEncoder\n",
    "from sklearn.metrics import precision_score, recall_score, accuracy_score, f1_score\n",
    "from tensorflow.keras.models import Sequential\n",
    "from tensorflow.keras.layers import Dense\n",
    "\n",
    "# Load the dataset\n",
    "data = pd.read_csv('New heart.csv')"
   ]
  },
  {
   "cell_type": "code",
   "execution_count": 3,
   "id": "a69d48f2",
   "metadata": {},
   "outputs": [],
   "source": [
    "# Handle missing values (Replace 'M' with NaN)\n",
    "data = data.replace('M', np.nan)\n",
    "\n",
    "# Drop rows with missing target values (assuming 'target' is the column name)\n",
    "data.dropna(subset=['HeartDisease'], inplace=True)"
   ]
  },
  {
   "cell_type": "code",
   "execution_count": 4,
   "id": "ca6bd943",
   "metadata": {},
   "outputs": [],
   "source": [
    "# Define features (X) and target (y)\n",
    "X = data.drop('HeartDisease', axis=1)\n",
    "y = data['HeartDisease']\n"
   ]
  },
  {
   "cell_type": "code",
   "execution_count": 5,
   "id": "fa1a3919",
   "metadata": {},
   "outputs": [],
   "source": [
    "# Convert non-numeric columns to numeric using LabelEncoder\n",
    "label_encoder = LabelEncoder()\n",
    "X['Sex'] = label_encoder.fit_transform(X['Sex'])\n",
    "X['ChestPainType'] = label_encoder.fit_transform(X['ChestPainType'])\n",
    "X['RestingECG'] = label_encoder.fit_transform(X['RestingECG'])\n",
    "X['ExerciseAngina'] = label_encoder.fit_transform(X['ExerciseAngina'])\n",
    "X['ST_Slope'] = label_encoder.fit_transform(X['ST_Slope'])"
   ]
  },
  {
   "cell_type": "code",
   "execution_count": 6,
   "id": "f7795e13",
   "metadata": {},
   "outputs": [],
   "source": [
    "# Handle missing values in the feature columns\n",
    "X = X.fillna(X.mean())"
   ]
  },
  {
   "cell_type": "code",
   "execution_count": 7,
   "id": "aef275f1",
   "metadata": {},
   "outputs": [],
   "source": [
    "# Split the data into training and test sets\n",
    "X_train, X_test, y_train, y_test = train_test_split(X, y, test_size=0.2, random_state=42)"
   ]
  },
  {
   "cell_type": "code",
   "execution_count": 8,
   "id": "62e44ee9",
   "metadata": {},
   "outputs": [],
   "source": [
    "# Standardize the data\n",
    "scaler = StandardScaler()\n",
    "X_train = scaler.fit_transform(X_train)\n",
    "X_test = scaler.transform(X_test)"
   ]
  },
  {
   "cell_type": "code",
   "execution_count": 9,
   "id": "63bac202",
   "metadata": {},
   "outputs": [],
   "source": [
    "# Build the ANN model\n",
    "model = Sequential()\n",
    "model.add(Dense(units=64, activation='relu', input_dim=X_train.shape[1]))\n",
    "model.add(Dense(units=32, activation='relu'))\n",
    "model.add(Dense(units=1, activation='sigmoid'))\n"
   ]
  },
  {
   "cell_type": "code",
   "execution_count": 10,
   "id": "f2e2d3ca",
   "metadata": {},
   "outputs": [],
   "source": [
    "# Compile the model\n",
    "model.compile(optimizer='adam', loss='binary_crossentropy', metrics=['accuracy'])"
   ]
  },
  {
   "cell_type": "code",
   "execution_count": 11,
   "id": "090e0be6",
   "metadata": {},
   "outputs": [
    {
     "name": "stdout",
     "output_type": "stream",
     "text": [
      "Epoch 1/50\n",
      "42/42 [==============================] - 3s 15ms/step - loss: 0.5534 - accuracy: 0.7591 - val_loss: 0.5135 - val_accuracy: 0.7838\n",
      "Epoch 2/50\n",
      "42/42 [==============================] - 0s 5ms/step - loss: 0.3810 - accuracy: 0.8576 - val_loss: 0.4778 - val_accuracy: 0.7973\n",
      "Epoch 3/50\n",
      "42/42 [==============================] - 0s 5ms/step - loss: 0.3348 - accuracy: 0.8636 - val_loss: 0.4617 - val_accuracy: 0.7973\n",
      "Epoch 4/50\n",
      "42/42 [==============================] - 0s 5ms/step - loss: 0.3181 - accuracy: 0.8742 - val_loss: 0.4529 - val_accuracy: 0.8108\n",
      "Epoch 5/50\n",
      "42/42 [==============================] - 0s 5ms/step - loss: 0.3056 - accuracy: 0.8712 - val_loss: 0.4482 - val_accuracy: 0.8108\n",
      "Epoch 6/50\n",
      "42/42 [==============================] - 0s 5ms/step - loss: 0.2972 - accuracy: 0.8803 - val_loss: 0.4550 - val_accuracy: 0.8108\n",
      "Epoch 7/50\n",
      "42/42 [==============================] - 0s 5ms/step - loss: 0.2853 - accuracy: 0.8864 - val_loss: 0.4424 - val_accuracy: 0.8108\n",
      "Epoch 8/50\n",
      "42/42 [==============================] - 0s 5ms/step - loss: 0.2793 - accuracy: 0.8970 - val_loss: 0.4456 - val_accuracy: 0.8108\n",
      "Epoch 9/50\n",
      "42/42 [==============================] - 0s 7ms/step - loss: 0.2706 - accuracy: 0.8955 - val_loss: 0.4496 - val_accuracy: 0.8108\n",
      "Epoch 10/50\n",
      "42/42 [==============================] - 0s 5ms/step - loss: 0.2655 - accuracy: 0.8909 - val_loss: 0.4449 - val_accuracy: 0.7973\n",
      "Epoch 11/50\n",
      "42/42 [==============================] - 0s 5ms/step - loss: 0.2610 - accuracy: 0.8955 - val_loss: 0.4423 - val_accuracy: 0.8108\n",
      "Epoch 12/50\n",
      "42/42 [==============================] - 0s 5ms/step - loss: 0.2524 - accuracy: 0.8939 - val_loss: 0.4436 - val_accuracy: 0.8108\n",
      "Epoch 13/50\n",
      "42/42 [==============================] - 0s 7ms/step - loss: 0.2475 - accuracy: 0.9015 - val_loss: 0.4509 - val_accuracy: 0.8108\n",
      "Epoch 14/50\n",
      "42/42 [==============================] - 0s 6ms/step - loss: 0.2405 - accuracy: 0.9000 - val_loss: 0.4628 - val_accuracy: 0.7973\n",
      "Epoch 15/50\n",
      "42/42 [==============================] - 0s 8ms/step - loss: 0.2353 - accuracy: 0.9076 - val_loss: 0.4601 - val_accuracy: 0.7838\n",
      "Epoch 16/50\n",
      "42/42 [==============================] - 0s 6ms/step - loss: 0.2325 - accuracy: 0.9045 - val_loss: 0.4624 - val_accuracy: 0.7973\n",
      "Epoch 17/50\n",
      "42/42 [==============================] - 0s 6ms/step - loss: 0.2252 - accuracy: 0.9106 - val_loss: 0.4783 - val_accuracy: 0.7973\n",
      "Epoch 18/50\n",
      "42/42 [==============================] - 0s 7ms/step - loss: 0.2204 - accuracy: 0.9015 - val_loss: 0.4744 - val_accuracy: 0.7838\n",
      "Epoch 19/50\n",
      "42/42 [==============================] - 0s 7ms/step - loss: 0.2147 - accuracy: 0.9106 - val_loss: 0.4845 - val_accuracy: 0.7973\n",
      "Epoch 20/50\n",
      "42/42 [==============================] - 0s 7ms/step - loss: 0.2114 - accuracy: 0.9061 - val_loss: 0.4986 - val_accuracy: 0.7973\n",
      "Epoch 21/50\n",
      "42/42 [==============================] - 0s 6ms/step - loss: 0.2053 - accuracy: 0.9152 - val_loss: 0.5011 - val_accuracy: 0.7973\n",
      "Epoch 22/50\n",
      "42/42 [==============================] - 0s 5ms/step - loss: 0.2037 - accuracy: 0.9152 - val_loss: 0.5003 - val_accuracy: 0.7973\n",
      "Epoch 23/50\n",
      "42/42 [==============================] - 0s 5ms/step - loss: 0.1978 - accuracy: 0.9258 - val_loss: 0.5157 - val_accuracy: 0.7973\n",
      "Epoch 24/50\n",
      "42/42 [==============================] - 0s 6ms/step - loss: 0.1924 - accuracy: 0.9273 - val_loss: 0.5255 - val_accuracy: 0.7973\n",
      "Epoch 25/50\n",
      "42/42 [==============================] - 0s 7ms/step - loss: 0.1903 - accuracy: 0.9242 - val_loss: 0.5373 - val_accuracy: 0.7973\n",
      "Epoch 26/50\n",
      "42/42 [==============================] - 0s 6ms/step - loss: 0.1832 - accuracy: 0.9318 - val_loss: 0.5477 - val_accuracy: 0.7973\n",
      "Epoch 27/50\n",
      "42/42 [==============================] - 0s 6ms/step - loss: 0.1787 - accuracy: 0.9288 - val_loss: 0.5428 - val_accuracy: 0.7973\n",
      "Epoch 28/50\n",
      "42/42 [==============================] - 0s 7ms/step - loss: 0.1767 - accuracy: 0.9409 - val_loss: 0.5680 - val_accuracy: 0.7973\n",
      "Epoch 29/50\n",
      "42/42 [==============================] - 0s 7ms/step - loss: 0.1735 - accuracy: 0.9379 - val_loss: 0.5884 - val_accuracy: 0.7973\n",
      "Epoch 30/50\n",
      "42/42 [==============================] - 0s 6ms/step - loss: 0.1706 - accuracy: 0.9364 - val_loss: 0.5906 - val_accuracy: 0.7973\n",
      "Epoch 31/50\n",
      "42/42 [==============================] - 0s 6ms/step - loss: 0.1663 - accuracy: 0.9394 - val_loss: 0.6067 - val_accuracy: 0.7973\n",
      "Epoch 32/50\n",
      "42/42 [==============================] - 0s 7ms/step - loss: 0.1628 - accuracy: 0.9424 - val_loss: 0.5903 - val_accuracy: 0.7973\n",
      "Epoch 33/50\n",
      "42/42 [==============================] - 0s 7ms/step - loss: 0.1559 - accuracy: 0.9409 - val_loss: 0.6143 - val_accuracy: 0.7973\n",
      "Epoch 34/50\n",
      "42/42 [==============================] - 0s 6ms/step - loss: 0.1558 - accuracy: 0.9409 - val_loss: 0.6307 - val_accuracy: 0.7838\n",
      "Epoch 35/50\n",
      "42/42 [==============================] - 0s 6ms/step - loss: 0.1509 - accuracy: 0.9409 - val_loss: 0.6283 - val_accuracy: 0.7838\n",
      "Epoch 36/50\n",
      "42/42 [==============================] - 0s 6ms/step - loss: 0.1491 - accuracy: 0.9455 - val_loss: 0.6519 - val_accuracy: 0.7973\n",
      "Epoch 37/50\n",
      "42/42 [==============================] - 0s 7ms/step - loss: 0.1475 - accuracy: 0.9439 - val_loss: 0.6627 - val_accuracy: 0.7838\n",
      "Epoch 38/50\n",
      "42/42 [==============================] - 0s 5ms/step - loss: 0.1438 - accuracy: 0.9439 - val_loss: 0.6510 - val_accuracy: 0.7973\n",
      "Epoch 39/50\n",
      "42/42 [==============================] - 0s 8ms/step - loss: 0.1392 - accuracy: 0.9485 - val_loss: 0.6715 - val_accuracy: 0.7973\n",
      "Epoch 40/50\n",
      "42/42 [==============================] - 0s 6ms/step - loss: 0.1371 - accuracy: 0.9485 - val_loss: 0.6981 - val_accuracy: 0.7838\n",
      "Epoch 41/50\n",
      "42/42 [==============================] - 0s 6ms/step - loss: 0.1301 - accuracy: 0.9530 - val_loss: 0.6943 - val_accuracy: 0.7838\n",
      "Epoch 42/50\n",
      "42/42 [==============================] - 0s 5ms/step - loss: 0.1316 - accuracy: 0.9591 - val_loss: 0.7041 - val_accuracy: 0.7838\n",
      "Epoch 43/50\n",
      "42/42 [==============================] - 0s 5ms/step - loss: 0.1255 - accuracy: 0.9591 - val_loss: 0.7013 - val_accuracy: 0.7838\n",
      "Epoch 44/50\n",
      "42/42 [==============================] - 0s 5ms/step - loss: 0.1235 - accuracy: 0.9530 - val_loss: 0.7237 - val_accuracy: 0.7838\n",
      "Epoch 45/50\n",
      "42/42 [==============================] - 0s 5ms/step - loss: 0.1251 - accuracy: 0.9606 - val_loss: 0.7399 - val_accuracy: 0.7838\n",
      "Epoch 46/50\n",
      "42/42 [==============================] - 0s 5ms/step - loss: 0.1177 - accuracy: 0.9621 - val_loss: 0.7329 - val_accuracy: 0.7973\n",
      "Epoch 47/50\n",
      "42/42 [==============================] - 0s 5ms/step - loss: 0.1164 - accuracy: 0.9561 - val_loss: 0.7781 - val_accuracy: 0.7838\n",
      "Epoch 48/50\n",
      "42/42 [==============================] - 0s 5ms/step - loss: 0.1136 - accuracy: 0.9621 - val_loss: 0.7714 - val_accuracy: 0.7973\n",
      "Epoch 49/50\n",
      "42/42 [==============================] - 0s 4ms/step - loss: 0.1172 - accuracy: 0.9591 - val_loss: 0.7917 - val_accuracy: 0.7838\n",
      "Epoch 50/50\n",
      "42/42 [==============================] - 0s 6ms/step - loss: 0.1062 - accuracy: 0.9621 - val_loss: 0.7861 - val_accuracy: 0.7973\n"
     ]
    },
    {
     "data": {
      "text/plain": [
       "<keras.src.callbacks.History at 0x2b2c7e07010>"
      ]
     },
     "execution_count": 11,
     "metadata": {},
     "output_type": "execute_result"
    }
   ],
   "source": [
    "# Train the model\n",
    "model.fit(X_train, y_train, epochs=50, batch_size=16, validation_split=0.1)"
   ]
  },
  {
   "cell_type": "code",
   "execution_count": 12,
   "id": "7ae2562d",
   "metadata": {},
   "outputs": [
    {
     "name": "stdout",
     "output_type": "stream",
     "text": [
      "6/6 [==============================] - 0s 4ms/step\n"
     ]
    }
   ],
   "source": [
    "# Make predictions on the test set\n",
    "y_pred = model.predict(X_test)\n",
    "y_pred = (y_pred > 0.5).astype(int)\n"
   ]
  },
  {
   "cell_type": "code",
   "execution_count": 13,
   "id": "56c530d4",
   "metadata": {},
   "outputs": [
    {
     "name": "stdout",
     "output_type": "stream",
     "text": [
      "Precision: 94.89795918367348\n",
      "Recall: 86.91588785046729\n",
      "Accuracy: 89.67391304347827\n",
      "F1 Score: 90.73170731707317\n"
     ]
    }
   ],
   "source": [
    "# Calculate evaluation metrics\n",
    "precision = precision_score(y_test, y_pred)\n",
    "recall = recall_score(y_test, y_pred)\n",
    "accuracy = accuracy_score(y_test, y_pred)\n",
    "f1 = f1_score(y_test, y_pred)\n",
    "\n",
    "# Print the evaluation metrics\n",
    "print(\"Precision:\", precision*100)\n",
    "print(\"Recall:\", recall*100)\n",
    "print(\"Accuracy:\", accuracy*100)\n",
    "print(\"F1 Score:\", f1*100)"
   ]
  },
  {
   "cell_type": "code",
   "execution_count": null,
   "id": "951f69c1",
   "metadata": {},
   "outputs": [],
   "source": []
  }
 ],
 "metadata": {
  "kernelspec": {
   "display_name": "Python 3 (ipykernel)",
   "language": "python",
   "name": "python3"
  },
  "language_info": {
   "codemirror_mode": {
    "name": "ipython",
    "version": 3
   },
   "file_extension": ".py",
   "mimetype": "text/x-python",
   "name": "python",
   "nbconvert_exporter": "python",
   "pygments_lexer": "ipython3",
   "version": "3.10.9"
  }
 },
 "nbformat": 4,
 "nbformat_minor": 5
}
